{
 "cells": [
  {
   "cell_type": "code",
   "execution_count": 8,
   "id": "a8e852e3",
   "metadata": {},
   "outputs": [
    {
     "name": "stdout",
     "output_type": "stream",
     "text": [
      "Requirement already satisfied: mysql-connector-python in /opt/anaconda3/lib/python3.12/site-packages (9.3.0)\n",
      "Note: you may need to restart the kernel to use updated packages.\n"
     ]
    }
   ],
   "source": [
    "pip install mysql-connector-python"
   ]
  },
  {
   "cell_type": "code",
   "execution_count": 9,
   "id": "96c93236",
   "metadata": {},
   "outputs": [
    {
     "name": "stdout",
     "output_type": "stream",
     "text": [
      "Requirement already satisfied: python-dotenv in /opt/anaconda3/lib/python3.12/site-packages (0.21.0)\n",
      "Requirement already satisfied: mysql-connector-python in /opt/anaconda3/lib/python3.12/site-packages (9.3.0)\n",
      "Note: you may need to restart the kernel to use updated packages.\n"
     ]
    }
   ],
   "source": [
    "pip install python-dotenv mysql-connector-python"
   ]
  },
  {
   "cell_type": "code",
   "execution_count": 1,
   "id": "358a51e4",
   "metadata": {},
   "outputs": [],
   "source": [
    "import mysql.connector\n",
    "from mysql.connector import errorcode\n",
    "\n",
    "import os\n",
    "from dotenv import load_dotenv"
   ]
  },
  {
   "cell_type": "code",
   "execution_count": 2,
   "id": "3a1b2aa6",
   "metadata": {},
   "outputs": [
    {
     "data": {
      "text/plain": [
       "True"
      ]
     },
     "execution_count": 2,
     "metadata": {},
     "output_type": "execute_result"
    }
   ],
   "source": [
    "load_dotenv()"
   ]
  },
  {
   "cell_type": "code",
   "execution_count": 3,
   "id": "8be41c0c",
   "metadata": {},
   "outputs": [
    {
     "name": "stdout",
     "output_type": "stream",
     "text": [
      "1007 (HY000): Can't create database 'HR'; database exists\n",
      "Código de Error: 1007\n",
      "SQLSTATE HY000\n",
      "Mensaje Can't create database 'HR'; database exists\n"
     ]
    }
   ],
   "source": [
    "# Crea la base de datos 'HR'\n",
    "cnx = mysql.connector.connect(\n",
    "    user='root',\n",
    "    password='AlumnaAdalab',\n",
    "    host='127.0.0.1',     \n",
    ")\n",
    "cur = cnx.cursor()\n",
    "\n",
    "try:\n",
    "    cur.execute(\"CREATE DATABASE HR\")\n",
    "    print(\"Base de datos 'HR' creada exitosamente.\")\n",
    "except mysql.connector.Error as err:\n",
    "    print(err)\n",
    "    print(\"Código de Error:\", err.errno)\n",
    "    print(\"SQLSTATE\", err.sqlstate)\n",
    "    print(\"Mensaje\", err.msg)\n",
    "\n",
    "cnx.close()\n",
    "# Si ejecutas esta celda dos veces, obtendrás un aviso de que la base de datos ya existe.\n"
   ]
  },
  {
   "cell_type": "code",
   "execution_count": 4,
   "id": "7fa7f14f",
   "metadata": {},
   "outputs": [
    {
     "name": "stdout",
     "output_type": "stream",
     "text": [
      "Conexión cerrada.\n"
     ]
    }
   ],
   "source": [
    "try:\n",
    "    # Intenta hacer la conexión con la base de datos 'HR'\n",
    "    cnx = mysql.connector.connect(\n",
    "        user='root',\n",
    "        password='AlumnaAdalab',\n",
    "        host='127.0.0.1',      # o la IP del servidor MySQL\n",
    "        database='HR'\n",
    "    )\n",
    "    cur = cnx.cursor()\n",
    "    \n",
    "    cur.execute(\"\"\"\n",
    "    CREATE TABLE IF NOT EXISTS employees (\n",
    "        employeenumber INTEGER PRIMARY KEY,\n",
    "        gender VARCHAR(10),\n",
    "        maritalstatus VARCHAR(20),\n",
    "        attrition VARCHAR(10),\n",
    "        datebirth INTEGER\n",
    "    );\n",
    "    \"\"\")\n",
    "\n",
    "    cur.execute(\"\"\"\n",
    "    CREATE TABLE IF NOT EXISTS satisfaction (\n",
    "        employeenumber INTEGER,\n",
    "        environmentsatisfaction INTEGER,\n",
    "        jobsatisfaction INTEGER,\n",
    "        relationshipsatisfaction INTEGER,\n",
    "        jobinvolvement INTEGER,\n",
    "        worklifebalance INTEGER,\n",
    "        performancerating INTEGER,\n",
    "        CONSTRAINT fk_satisfaction_emp FOREIGN KEY (employeenumber) REFERENCES employees(employeenumber)\n",
    "    );\n",
    "    \"\"\")\n",
    "\n",
    "    cur.execute(\"\"\"\n",
    "    CREATE TABLE IF NOT EXISTS work (\n",
    "        employeenumber INTEGER,\n",
    "        department VARCHAR(75),\n",
    "        jobrole VARCHAR(75),\n",
    "        joblevel INTEGER,\n",
    "        remotework VARCHAR(10),\n",
    "        standardhours VARCHAR(20),\n",
    "        CONSTRAINT fk_work_emp FOREIGN KEY (employeenumber) REFERENCES employees(employeenumber)\n",
    "    );\n",
    "    \"\"\")\n",
    "\n",
    "    cur.execute(\"\"\"\n",
    "    CREATE TABLE IF NOT EXISTS history (\n",
    "        employeenumber INTEGER,\n",
    "        totalworkingyears FLOAT,\n",
    "        yearsatcompany INTEGER,\n",
    "        yearswithcurrmanager INTEGER,\n",
    "        yearssincelastpromotion INTEGER,\n",
    "        trainingtimeslastyear INTEGER,        \n",
    "        CONSTRAINT fk_history_emp FOREIGN KEY (employeenumber) REFERENCES employees(employeenumber)\n",
    "    );\n",
    "    \"\"\")\n",
    "\n",
    "    cur.execute(\"\"\"\n",
    "    CREATE TABLE IF NOT EXISTS conditions (\n",
    "        employeenumber INTEGER,\n",
    "        monthlyincome FLOAT,\n",
    "        monthlyrate FLOAT,\n",
    "        dailyrate FLOAT,\n",
    "        hourlyrate FLOAT,\n",
    "        salary FLOAT,\n",
    "        stockoptionlevel INTEGER,\n",
    "        percentsalaryhike INTEGER,\n",
    "        overtime VARCHAR(25),\n",
    "        CONSTRAINT fk_conditions_emp FOREIGN KEY (employeenumber) REFERENCES employees(employeenumber)\n",
    "    );\n",
    "    \"\"\")\n",
    "\n",
    "except mysql.connector.Error as err:\n",
    "    # Si es un error de acceso denegado (ej. contraseña o usuario incorrecto)\n",
    "    if err.errno == errorcode.ER_ACCESS_DENIED_ERROR:\n",
    "        print(\"Algo está mal con tu nombre de usuario o contraseña.\") #\n",
    "    # Si la base de datos no existe\n",
    "    elif err.errno == errorcode.ER_BAD_DB_ERROR:\n",
    "        print(\"La base de datos no existe.\") #\n",
    "    # Para cualquier otro tipo de error\n",
    "    else:\n",
    "        print(err) #\n",
    "        print(\"Código de Error:\", err.errno) #\n",
    "        print(\"SQLSTATE\", err.sqlstate) #\n",
    "        print(\"Mensaje\", err.msg) #\n",
    "else:\n",
    "    # Si la conexión fue exitosa, cierra la conexión\n",
    "    # cnx.close()\n",
    "    print(\"Conexión cerrada.\")"
   ]
  },
  {
   "cell_type": "code",
   "execution_count": 5,
   "id": "0a72e0e1",
   "metadata": {},
   "outputs": [],
   "source": [
    "import pandas as pd\n",
    "import mysql.connector"
   ]
  },
  {
   "cell_type": "code",
   "execution_count": 6,
   "id": "fc915d44",
   "metadata": {},
   "outputs": [
    {
     "name": "stdout",
     "output_type": "stream",
     "text": [
      "Tablas en la base de datos 'HR':\n",
      "('conditions',)\n",
      "('employees',)\n",
      "('history',)\n",
      "('satisfaction',)\n",
      "('work',)\n"
     ]
    }
   ],
   "source": [
    "cnx = mysql.connector.connect(\n",
    "    user='root',\n",
    "    password='AlumnaAdalab',\n",
    "    host='127.0.0.1',\n",
    "    database='HR'\n",
    ")\n",
    "\n",
    "mycursor = cnx.cursor() # Iniciamos el cursor\n",
    "\n",
    "mycursor.execute(\"SHOW TABLES\") # Ejecutamos la query\n",
    "\n",
    "# El cursor se convierte en un iterable al que podemos acceder, por ejemplo, con un bucle for\n",
    "print(\"Tablas en la base de datos 'HR':\")\n",
    "for x in mycursor:\n",
    "    print(x) # Devuelve cada resultado como una tupla\n",
    "\n",
    "cnx.close()"
   ]
  },
  {
   "cell_type": "code",
   "execution_count": null,
   "id": "c0449181",
   "metadata": {},
   "outputs": [],
   "source": [
    "# Cargar el CSV en un DataFrame\n",
    "df = pd.read_csv('hr_clean_data_v6_BBDD.csv')\n",
    "\n",
    "# Conexión a la base de datos MySQL\n",
    "cnx = mysql.connector.connect(\n",
    "    user='root',\n",
    "    password='AlumnaAdalab',\n",
    "    host='127.0.0.1',\n",
    "    database='HR'\n",
    ")\n",
    "cur = cnx.cursor()\n",
    "\n",
    "# Insertar los datos fila por fila en la tabla 'employees'\n",
    "for index, row in df.iterrows():\n",
    "    cur.execute(\"\"\"\n",
    "        INSERT INTO employees (\n",
    "            employeenumber, gender, maritalstatus, attrition, datebirth\n",
    "        ) VALUES (%s, %s, %s, %s, %s)\n",
    "    \"\"\", (\n",
    "        row['employeenumber'],\n",
    "        row['gender'],\n",
    "        row['maritalstatus'],\n",
    "        row['attrition'],\n",
    "        row['datebirth']\n",
    "    ))\n",
    "    \n",
    "    cur.execute(\"\"\"\n",
    "        INSERT INTO satisfaction (\n",
    "            employeenumber, environmentsatisfaction, jobsatisfaction,\n",
    "            relationshipsatisfaction, jobinvolvement, worklifebalance,\n",
    "            performancerating\n",
    "        ) VALUES (%s, %s, %s, %s, %s, %s, %s)\n",
    "    \"\"\", (\n",
    "        row['employeenumber'],\n",
    "        row['environmentsatisfaction'],\n",
    "        row['jobsatisfaction'],\n",
    "        row['relationshipsatisfaction'],\n",
    "        row['jobinvolvement'],\n",
    "        row['worklifebalance'],\n",
    "        row['performancerating']\n",
    "    ))\n",
    "\n",
    "    cur.execute(\"\"\"\n",
    "        INSERT INTO work (\n",
    "            employeenumber, department, jobrole, joblevel, remotework, standardhours\n",
    "        ) VALUES (%s, %s, %s, %s, %s, %s)\n",
    "    \"\"\", (\n",
    "        row['employeenumber'],\n",
    "        row['department'],\n",
    "        row['jobrole'],\n",
    "        row['joblevel'],\n",
    "        row['remotework'],\n",
    "        row['standardhours']\n",
    "    ))\n",
    "\n",
    "    cur.execute(\"\"\"\n",
    "        INSERT INTO history (\n",
    "            employeenumber, totalworkingyears, yearsatcompany,\n",
    "            yearswithcurrmanager, yearssincelastpromotion,\n",
    "            trainingtimeslastyear\n",
    "        ) VALUES (%s, %s, %s, %s, %s, %s)\n",
    "    \"\"\", (\n",
    "        row['employeenumber'],\n",
    "        row['totalworkingyears'],\n",
    "        row['yearsatcompany'],\n",
    "        row['yearswithcurrmanager'],\n",
    "        row['yearssincelastpromotion'],\n",
    "        row['trainingtimeslastyear']\n",
    "    ))\n",
    "\n",
    "    cur.execute(\"\"\"\n",
    "        INSERT INTO conditions (\n",
    "            employeenumber, monthlyincome, monthlyrate, dailyrate,\n",
    "            hourlyrate, salary, stockoptionlevel, percentsalaryhike,\n",
    "            overtime\n",
    "        ) VALUES (%s, %s, %s, %s, %s, %s, %s, %s, %s)\n",
    "    \"\"\", (\n",
    "        row['employeenumber'],\n",
    "        row['monthlyincome'],\n",
    "        row['monthlyrate'],\n",
    "        row['dailyrate'],\n",
    "        row['hourlyrate'],\n",
    "        row['salary'],\n",
    "        row['stockoptionlevel'],\n",
    "        row['percentsalaryhike'],\n",
    "        row['overtime']\n",
    "    ))\n",
    "\n",
    "cnx.commit()\n",
    "cur.close()\n",
    "cnx.close()"
   ]
  },
  {
   "cell_type": "code",
   "execution_count": 12,
   "id": "048c06a5",
   "metadata": {},
   "outputs": [
    {
     "name": "stdout",
     "output_type": "stream",
     "text": [
      "Error MySQL: 1205 (HY000): Lock wait timeout exceeded; try restarting transaction\n"
     ]
    }
   ],
   "source": [
    "try:\n",
    "    df = pd.read_csv('hr_clean_data_v6_BBDD.csv')\n",
    "\n",
    "    cnx = mysql.connector.connect(\n",
    "        user='root',\n",
    "        password='AlumnaAdalab',\n",
    "        host='127.0.0.1',\n",
    "        database='HR'\n",
    "    )\n",
    "    cur = cnx.cursor()\n",
    "\n",
    "    for index, row in df.iterrows():\n",
    "        cur.execute(\"\"\"\n",
    "            INSERT INTO employees (\n",
    "                employeenumber, gender, maritalstatus, attrition, datebirth\n",
    "            ) VALUES (%s, %s, %s, %s, %s)\n",
    "        \"\"\", (\n",
    "            row['employeenumber'],\n",
    "            row['gender'],\n",
    "            row['maritalstatus'],\n",
    "            row['attrition'],\n",
    "            row['datebirth']  # revisar formato aquí si da error\n",
    "        ))\n",
    "\n",
    "    cnx.commit()  # Confirmar cambios\n",
    "    cur.close()\n",
    "    cnx.close()\n",
    "    print(\"Datos insertados correctamente\")\n",
    "\n",
    "except mysql.connector.Error as err:\n",
    "    print(f\"Error MySQL: {err}\")\n",
    "except Exception as e:\n",
    "    print(f\"Error general: {e}\")"
   ]
  },
  {
   "cell_type": "code",
   "execution_count": null,
   "id": "ce32f5a6",
   "metadata": {},
   "outputs": [],
   "source": []
  }
 ],
 "metadata": {
  "kernelspec": {
   "display_name": "Python 3",
   "language": "python",
   "name": "python3"
  },
  "language_info": {
   "codemirror_mode": {
    "name": "ipython",
    "version": 3
   },
   "file_extension": ".py",
   "mimetype": "text/x-python",
   "name": "python",
   "nbconvert_exporter": "python",
   "pygments_lexer": "ipython3",
   "version": "3.12.7"
  }
 },
 "nbformat": 4,
 "nbformat_minor": 5
}
