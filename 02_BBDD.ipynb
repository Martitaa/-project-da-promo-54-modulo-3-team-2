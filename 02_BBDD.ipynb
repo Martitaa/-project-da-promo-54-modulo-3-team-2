{
 "cells": [
  {
   "cell_type": "code",
   "execution_count": 1,
   "id": "a8e852e3",
   "metadata": {},
   "outputs": [
    {
     "name": "stdout",
     "output_type": "stream",
     "text": [
      "Requirement already satisfied: mysql-connector-python in /opt/anaconda3/lib/python3.12/site-packages (9.3.0)\n",
      "Note: you may need to restart the kernel to use updated packages.\n"
     ]
    }
   ],
   "source": [
    "pip install mysql-connector-python"
   ]
  },
  {
   "cell_type": "code",
   "execution_count": 2,
   "id": "96c93236",
   "metadata": {},
   "outputs": [
    {
     "name": "stdout",
     "output_type": "stream",
     "text": [
      "Requirement already satisfied: python-dotenv in /opt/anaconda3/lib/python3.12/site-packages (0.21.0)\n",
      "Requirement already satisfied: mysql-connector-python in /opt/anaconda3/lib/python3.12/site-packages (9.3.0)\n",
      "Note: you may need to restart the kernel to use updated packages.\n"
     ]
    }
   ],
   "source": [
    "pip install python-dotenv mysql-connector-python"
   ]
  },
  {
   "cell_type": "code",
   "execution_count": 3,
   "id": "358a51e4",
   "metadata": {},
   "outputs": [],
   "source": [
    "import mysql.connector\n",
    "from mysql.connector import errorcode\n",
    "\n",
    "import os\n",
    "from dotenv import load_dotenv"
   ]
  },
  {
   "cell_type": "code",
   "execution_count": 4,
   "id": "3a1b2aa6",
   "metadata": {},
   "outputs": [
    {
     "data": {
      "text/plain": [
       "True"
      ]
     },
     "execution_count": 4,
     "metadata": {},
     "output_type": "execute_result"
    }
   ],
   "source": [
    "load_dotenv()"
   ]
  },
  {
   "cell_type": "code",
   "execution_count": 5,
   "id": "8be41c0c",
   "metadata": {},
   "outputs": [
    {
     "name": "stdout",
     "output_type": "stream",
     "text": [
      "1007 (HY000): Can't create database 'HR'; database exists\n",
      "Código de Error: 1007\n",
      "SQLSTATE HY000\n",
      "Mensaje Can't create database 'HR'; database exists\n"
     ]
    }
   ],
   "source": [
    "# Crea la base de datos 'HR'\n",
    "cnx = mysql.connector.connect(\n",
    "    user='root',\n",
    "    password='AlumnaAdalab',\n",
    "    host='127.0.0.1',     \n",
    ")\n",
    "cur = cnx.cursor()\n",
    "\n",
    "try:\n",
    "    cur.execute(\"CREATE DATABASE HR\")\n",
    "    print(\"Base de datos 'HR' creada exitosamente.\")\n",
    "except mysql.connector.Error as err:\n",
    "    print(err)\n",
    "    print(\"Código de Error:\", err.errno)\n",
    "    print(\"SQLSTATE\", err.sqlstate)\n",
    "    print(\"Mensaje\", err.msg)\n",
    "\n",
    "cnx.close()\n",
    "# Si ejecutas esta celda dos veces, obtendrás un aviso de que la base de datos ya existe.\n"
   ]
  },
  {
   "cell_type": "code",
   "execution_count": 6,
   "id": "7fa7f14f",
   "metadata": {},
   "outputs": [
    {
     "name": "stdout",
     "output_type": "stream",
     "text": [
      "Conexión cerrada.\n"
     ]
    }
   ],
   "source": [
    "try:\n",
    "    # Intenta hacer la conexión con la base de datos 'HR'\n",
    "    cnx = mysql.connector.connect(\n",
    "        user='root',\n",
    "        password='AlumnaAdalab',\n",
    "        host='127.0.0.1',      # o la IP del servidor MySQL\n",
    "        database='HR'\n",
    "    )\n",
    "    cur = cnx.cursor()\n",
    "    \n",
    "    cur.execute(\"\"\"\n",
    "    CREATE TABLE IF NOT EXISTS employees (\n",
    "        employeenumber INTEGER PRIMARY KEY,\n",
    "        gender VARCHAR(10),\n",
    "        maritalstatus VARCHAR(20),\n",
    "        attrition VARCHAR(10),\n",
    "        datebirth INTEGER\n",
    "    );\n",
    "    \"\"\")\n",
    "\n",
    "    cur.execute(\"\"\"\n",
    "    CREATE TABLE IF NOT EXISTS satisfaction (\n",
    "        employeenumber INTEGER,\n",
    "        environmentsatisfaction INTEGER,\n",
    "        jobsatisfaction INTEGER,\n",
    "        relationshipsatisfaction INTEGER,\n",
    "        jobinvolvement INTEGER,\n",
    "        worklifebalance INTEGER,\n",
    "        performancerating INTEGER,\n",
    "        CONSTRAINT fk_satisfaction_emp FOREIGN KEY (employeenumber) REFERENCES employees(employeenumber)\n",
    "    );\n",
    "    \"\"\")\n",
    "\n",
    "    cur.execute(\"\"\"\n",
    "    CREATE TABLE IF NOT EXISTS work (\n",
    "        employeenumber INTEGER,\n",
    "        department VARCHAR(75),\n",
    "        jobrole VARCHAR(75),\n",
    "        joblevel INTEGER,\n",
    "        remotework VARCHAR(10),\n",
    "        standardhours VARCHAR(20),\n",
    "        CONSTRAINT fk_work_emp FOREIGN KEY (employeenumber) REFERENCES employees(employeenumber)\n",
    "    );\n",
    "    \"\"\")\n",
    "\n",
    "    cur.execute(\"\"\"\n",
    "    CREATE TABLE IF NOT EXISTS history (\n",
    "        employeenumber INTEGER,\n",
    "        totalworkingyears FLOAT,\n",
    "        yearsatcompany INTEGER,\n",
    "        yearswithcurrmanager INTEGER,\n",
    "        yearssincelastpromotion INTEGER,\n",
    "        trainingtimeslastyear INTEGER,        \n",
    "        CONSTRAINT fk_history_emp FOREIGN KEY (employeenumber) REFERENCES employees(employeenumber)\n",
    "    );\n",
    "    \"\"\")\n",
    "\n",
    "    cur.execute(\"\"\"\n",
    "    CREATE TABLE IF NOT EXISTS conditions (\n",
    "        employeenumber INTEGER,\n",
    "        monthlyincome FLOAT,\n",
    "        monthlyrate FLOAT,\n",
    "        dailyrate FLOAT,\n",
    "        hourlyrate FLOAT,\n",
    "        salary FLOAT,\n",
    "        stockoptionlevel INTEGER,\n",
    "        percentsalaryhike INTEGER,\n",
    "        overtime VARCHAR(25),\n",
    "        CONSTRAINT fk_conditions_emp FOREIGN KEY (employeenumber) REFERENCES employees(employeenumber)\n",
    "    );\n",
    "    \"\"\")\n",
    "\n",
    "except mysql.connector.Error as err:\n",
    "    # Si es un error de acceso denegado (ej. contraseña o usuario incorrecto)\n",
    "    if err.errno == errorcode.ER_ACCESS_DENIED_ERROR:\n",
    "        print(\"Algo está mal con tu nombre de usuario o contraseña.\") #\n",
    "    # Si la base de datos no existe\n",
    "    elif err.errno == errorcode.ER_BAD_DB_ERROR:\n",
    "        print(\"La base de datos no existe.\") #\n",
    "    # Para cualquier otro tipo de error\n",
    "    else:\n",
    "        print(err) #\n",
    "        print(\"Código de Error:\", err.errno) #\n",
    "        print(\"SQLSTATE\", err.sqlstate) #\n",
    "        print(\"Mensaje\", err.msg) #\n",
    "else:\n",
    "    # Si la conexión fue exitosa, cierra la conexión\n",
    "    # cnx.close()\n",
    "    print(\"Conexión cerrada.\")"
   ]
  },
  {
   "cell_type": "code",
   "execution_count": 9,
   "id": "0a72e0e1",
   "metadata": {},
   "outputs": [],
   "source": [
    "import pandas as pd\n",
    "import mysql.connector"
   ]
  },
  {
   "cell_type": "code",
   "execution_count": 10,
   "id": "fc915d44",
   "metadata": {},
   "outputs": [
    {
     "name": "stdout",
     "output_type": "stream",
     "text": [
      "Tablas en la base de datos 'HR':\n",
      "('conditions',)\n",
      "('employees',)\n",
      "('history',)\n",
      "('satisfaction',)\n",
      "('work',)\n"
     ]
    }
   ],
   "source": [
    "cnx = mysql.connector.connect(\n",
    "    user='root',\n",
    "    password='AlumnaAdalab',\n",
    "    host='127.0.0.1',\n",
    "    database='HR'\n",
    ")\n",
    "\n",
    "mycursor = cnx.cursor() # Iniciamos el cursor\n",
    "\n",
    "mycursor.execute(\"SHOW TABLES\") # Ejecutamos la query\n",
    "\n",
    "# El cursor se convierte en un iterable al que podemos acceder, por ejemplo, con un bucle for\n",
    "print(\"Tablas en la base de datos 'HR':\")\n",
    "for x in mycursor:\n",
    "    print(x) # Devuelve cada resultado como una tupla\n",
    "\n",
    "cnx.close()"
   ]
  },
  {
   "cell_type": "code",
   "execution_count": 12,
   "id": "c0449181",
   "metadata": {},
   "outputs": [
    {
     "ename": "KeyError",
     "evalue": "'yearswithcurrentmanager'",
     "output_type": "error",
     "traceback": [
      "\u001b[0;31m---------------------------------------------------------------------------\u001b[0m",
      "\u001b[0;31mKeyError\u001b[0m                                  Traceback (most recent call last)",
      "File \u001b[0;32m/opt/anaconda3/lib/python3.12/site-packages/pandas/core/indexes/base.py:3805\u001b[0m, in \u001b[0;36mIndex.get_loc\u001b[0;34m(self, key)\u001b[0m\n\u001b[1;32m   3804\u001b[0m \u001b[38;5;28;01mtry\u001b[39;00m:\n\u001b[0;32m-> 3805\u001b[0m     \u001b[38;5;28;01mreturn\u001b[39;00m \u001b[38;5;28mself\u001b[39m\u001b[38;5;241m.\u001b[39m_engine\u001b[38;5;241m.\u001b[39mget_loc(casted_key)\n\u001b[1;32m   3806\u001b[0m \u001b[38;5;28;01mexcept\u001b[39;00m \u001b[38;5;167;01mKeyError\u001b[39;00m \u001b[38;5;28;01mas\u001b[39;00m err:\n",
      "File \u001b[0;32mindex.pyx:167\u001b[0m, in \u001b[0;36mpandas._libs.index.IndexEngine.get_loc\u001b[0;34m()\u001b[0m\n",
      "File \u001b[0;32mindex.pyx:196\u001b[0m, in \u001b[0;36mpandas._libs.index.IndexEngine.get_loc\u001b[0;34m()\u001b[0m\n",
      "File \u001b[0;32mpandas/_libs/hashtable_class_helper.pxi:7081\u001b[0m, in \u001b[0;36mpandas._libs.hashtable.PyObjectHashTable.get_item\u001b[0;34m()\u001b[0m\n",
      "File \u001b[0;32mpandas/_libs/hashtable_class_helper.pxi:7089\u001b[0m, in \u001b[0;36mpandas._libs.hashtable.PyObjectHashTable.get_item\u001b[0;34m()\u001b[0m\n",
      "\u001b[0;31mKeyError\u001b[0m: 'yearswithcurrentmanager'",
      "\nThe above exception was the direct cause of the following exception:\n",
      "\u001b[0;31mKeyError\u001b[0m                                  Traceback (most recent call last)",
      "Cell \u001b[0;32mIn[12], line 66\u001b[0m\n\u001b[1;32m     27\u001b[0m     cur\u001b[38;5;241m.\u001b[39mexecute(\u001b[38;5;124m\"\"\"\u001b[39m\n\u001b[1;32m     28\u001b[0m \u001b[38;5;124m        INSERT INTO satisfaction (\u001b[39m\n\u001b[1;32m     29\u001b[0m \u001b[38;5;124m            employeenumber, environmentsatisfaction, jobsatisfaction,\u001b[39m\n\u001b[0;32m   (...)\u001b[0m\n\u001b[1;32m     40\u001b[0m         row[\u001b[38;5;124m'\u001b[39m\u001b[38;5;124mperformancerating\u001b[39m\u001b[38;5;124m'\u001b[39m]\n\u001b[1;32m     41\u001b[0m     ))\n\u001b[1;32m     43\u001b[0m     cur\u001b[38;5;241m.\u001b[39mexecute(\u001b[38;5;124m\"\"\"\u001b[39m\n\u001b[1;32m     44\u001b[0m \u001b[38;5;124m        INSERT INTO work (\u001b[39m\n\u001b[1;32m     45\u001b[0m \u001b[38;5;124m            employeenumber, department, jobrole, joblevel, remotework, standardhours\u001b[39m\n\u001b[0;32m   (...)\u001b[0m\n\u001b[1;32m     53\u001b[0m         row[\u001b[38;5;124m'\u001b[39m\u001b[38;5;124mstandardhours\u001b[39m\u001b[38;5;124m'\u001b[39m]\n\u001b[1;32m     54\u001b[0m     ))\n\u001b[1;32m     56\u001b[0m     cur\u001b[38;5;241m.\u001b[39mexecute(\u001b[38;5;124m\"\"\"\u001b[39m\n\u001b[1;32m     57\u001b[0m \u001b[38;5;124m        INSERT INTO history (\u001b[39m\n\u001b[1;32m     58\u001b[0m \u001b[38;5;124m            employeenumber, totalworkingyears, yearsatcompany,\u001b[39m\n\u001b[1;32m     59\u001b[0m \u001b[38;5;124m            yearswithcurrentmanager, yearssincelastpromotion,\u001b[39m\n\u001b[1;32m     60\u001b[0m \u001b[38;5;124m            trainingtimeslastyear\u001b[39m\n\u001b[1;32m     61\u001b[0m \u001b[38;5;124m        ) VALUES (\u001b[39m\u001b[38;5;132;01m%s\u001b[39;00m\u001b[38;5;124m, \u001b[39m\u001b[38;5;132;01m%s\u001b[39;00m\u001b[38;5;124m, \u001b[39m\u001b[38;5;132;01m%s\u001b[39;00m\u001b[38;5;124m, \u001b[39m\u001b[38;5;132;01m%s\u001b[39;00m\u001b[38;5;124m, \u001b[39m\u001b[38;5;132;01m%s\u001b[39;00m\u001b[38;5;124m, \u001b[39m\u001b[38;5;132;01m%s\u001b[39;00m\u001b[38;5;124m)\u001b[39m\n\u001b[1;32m     62\u001b[0m \u001b[38;5;124m    \u001b[39m\u001b[38;5;124m\"\"\"\u001b[39m, (\n\u001b[1;32m     63\u001b[0m         row[\u001b[38;5;124m'\u001b[39m\u001b[38;5;124memployeenumber\u001b[39m\u001b[38;5;124m'\u001b[39m],\n\u001b[1;32m     64\u001b[0m         row[\u001b[38;5;124m'\u001b[39m\u001b[38;5;124mtotalworkingyears\u001b[39m\u001b[38;5;124m'\u001b[39m],\n\u001b[1;32m     65\u001b[0m         row[\u001b[38;5;124m'\u001b[39m\u001b[38;5;124myearsatcompany\u001b[39m\u001b[38;5;124m'\u001b[39m],\n\u001b[0;32m---> 66\u001b[0m         row[\u001b[38;5;124m'\u001b[39m\u001b[38;5;124myearswithcurrentmanager\u001b[39m\u001b[38;5;124m'\u001b[39m],\n\u001b[1;32m     67\u001b[0m         row[\u001b[38;5;124m'\u001b[39m\u001b[38;5;124myearssincelastpromotion\u001b[39m\u001b[38;5;124m'\u001b[39m],\n\u001b[1;32m     68\u001b[0m         row[\u001b[38;5;124m'\u001b[39m\u001b[38;5;124mtrainingtimeslastyear\u001b[39m\u001b[38;5;124m'\u001b[39m]\n\u001b[1;32m     69\u001b[0m     ))\n\u001b[1;32m     71\u001b[0m     cur\u001b[38;5;241m.\u001b[39mexecute(\u001b[38;5;124m\"\"\"\u001b[39m\n\u001b[1;32m     72\u001b[0m \u001b[38;5;124m        INSERT INTO conditions (\u001b[39m\n\u001b[1;32m     73\u001b[0m \u001b[38;5;124m            employeenumber, monthlyincome, monthlyrate, dailyrate,\u001b[39m\n\u001b[0;32m   (...)\u001b[0m\n\u001b[1;32m     86\u001b[0m         row[\u001b[38;5;124m'\u001b[39m\u001b[38;5;124movertime\u001b[39m\u001b[38;5;124m'\u001b[39m]\n\u001b[1;32m     87\u001b[0m     ))\n\u001b[1;32m     89\u001b[0m cnx\u001b[38;5;241m.\u001b[39mcommit()\n",
      "File \u001b[0;32m/opt/anaconda3/lib/python3.12/site-packages/pandas/core/series.py:1121\u001b[0m, in \u001b[0;36mSeries.__getitem__\u001b[0;34m(self, key)\u001b[0m\n\u001b[1;32m   1118\u001b[0m     \u001b[38;5;28;01mreturn\u001b[39;00m \u001b[38;5;28mself\u001b[39m\u001b[38;5;241m.\u001b[39m_values[key]\n\u001b[1;32m   1120\u001b[0m \u001b[38;5;28;01melif\u001b[39;00m key_is_scalar:\n\u001b[0;32m-> 1121\u001b[0m     \u001b[38;5;28;01mreturn\u001b[39;00m \u001b[38;5;28mself\u001b[39m\u001b[38;5;241m.\u001b[39m_get_value(key)\n\u001b[1;32m   1123\u001b[0m \u001b[38;5;66;03m# Convert generator to list before going through hashable part\u001b[39;00m\n\u001b[1;32m   1124\u001b[0m \u001b[38;5;66;03m# (We will iterate through the generator there to check for slices)\u001b[39;00m\n\u001b[1;32m   1125\u001b[0m \u001b[38;5;28;01mif\u001b[39;00m is_iterator(key):\n",
      "File \u001b[0;32m/opt/anaconda3/lib/python3.12/site-packages/pandas/core/series.py:1237\u001b[0m, in \u001b[0;36mSeries._get_value\u001b[0;34m(self, label, takeable)\u001b[0m\n\u001b[1;32m   1234\u001b[0m     \u001b[38;5;28;01mreturn\u001b[39;00m \u001b[38;5;28mself\u001b[39m\u001b[38;5;241m.\u001b[39m_values[label]\n\u001b[1;32m   1236\u001b[0m \u001b[38;5;66;03m# Similar to Index.get_value, but we do not fall back to positional\u001b[39;00m\n\u001b[0;32m-> 1237\u001b[0m loc \u001b[38;5;241m=\u001b[39m \u001b[38;5;28mself\u001b[39m\u001b[38;5;241m.\u001b[39mindex\u001b[38;5;241m.\u001b[39mget_loc(label)\n\u001b[1;32m   1239\u001b[0m \u001b[38;5;28;01mif\u001b[39;00m is_integer(loc):\n\u001b[1;32m   1240\u001b[0m     \u001b[38;5;28;01mreturn\u001b[39;00m \u001b[38;5;28mself\u001b[39m\u001b[38;5;241m.\u001b[39m_values[loc]\n",
      "File \u001b[0;32m/opt/anaconda3/lib/python3.12/site-packages/pandas/core/indexes/base.py:3812\u001b[0m, in \u001b[0;36mIndex.get_loc\u001b[0;34m(self, key)\u001b[0m\n\u001b[1;32m   3807\u001b[0m     \u001b[38;5;28;01mif\u001b[39;00m \u001b[38;5;28misinstance\u001b[39m(casted_key, \u001b[38;5;28mslice\u001b[39m) \u001b[38;5;129;01mor\u001b[39;00m (\n\u001b[1;32m   3808\u001b[0m         \u001b[38;5;28misinstance\u001b[39m(casted_key, abc\u001b[38;5;241m.\u001b[39mIterable)\n\u001b[1;32m   3809\u001b[0m         \u001b[38;5;129;01mand\u001b[39;00m \u001b[38;5;28many\u001b[39m(\u001b[38;5;28misinstance\u001b[39m(x, \u001b[38;5;28mslice\u001b[39m) \u001b[38;5;28;01mfor\u001b[39;00m x \u001b[38;5;129;01min\u001b[39;00m casted_key)\n\u001b[1;32m   3810\u001b[0m     ):\n\u001b[1;32m   3811\u001b[0m         \u001b[38;5;28;01mraise\u001b[39;00m InvalidIndexError(key)\n\u001b[0;32m-> 3812\u001b[0m     \u001b[38;5;28;01mraise\u001b[39;00m \u001b[38;5;167;01mKeyError\u001b[39;00m(key) \u001b[38;5;28;01mfrom\u001b[39;00m \u001b[38;5;21;01merr\u001b[39;00m\n\u001b[1;32m   3813\u001b[0m \u001b[38;5;28;01mexcept\u001b[39;00m \u001b[38;5;167;01mTypeError\u001b[39;00m:\n\u001b[1;32m   3814\u001b[0m     \u001b[38;5;66;03m# If we have a listlike key, _check_indexing_error will raise\u001b[39;00m\n\u001b[1;32m   3815\u001b[0m     \u001b[38;5;66;03m#  InvalidIndexError. Otherwise we fall through and re-raise\u001b[39;00m\n\u001b[1;32m   3816\u001b[0m     \u001b[38;5;66;03m#  the TypeError.\u001b[39;00m\n\u001b[1;32m   3817\u001b[0m     \u001b[38;5;28mself\u001b[39m\u001b[38;5;241m.\u001b[39m_check_indexing_error(key)\n",
      "\u001b[0;31mKeyError\u001b[0m: 'yearswithcurrentmanager'"
     ]
    }
   ],
   "source": [
    "# Cargar el CSV en un DataFrame\n",
    "df = pd.read_csv('hr_clean_data_v6_BBDD.csv')\n",
    "\n",
    "# Conexión a la base de datos MySQL\n",
    "cnx = mysql.connector.connect(\n",
    "    user='root',\n",
    "    password='AlumnaAdalab',\n",
    "    host='127.0.0.1',\n",
    "    database='HR'\n",
    ")\n",
    "cur = cnx.cursor()\n",
    "\n",
    "# Insertar los datos fila por fila en la tabla 'employees'\n",
    "for index, row in df.iterrows():\n",
    "    cur.execute(\"\"\"\n",
    "        INSERT INTO employees (\n",
    "            employeenumber, gender, maritalstatus, attrition, datebirth\n",
    "        ) VALUES (%s, %s, %s, %s, %s)\n",
    "    \"\"\", (\n",
    "        row['employeenumber'],\n",
    "        row['gender'],\n",
    "        row['maritalstatus'],\n",
    "        row['attrition'],\n",
    "        row['datebirth']\n",
    "    ))\n",
    "    \n",
    "    cur.execute(\"\"\"\n",
    "        INSERT INTO satisfaction (\n",
    "            employeenumber, environmentsatisfaction, jobsatisfaction,\n",
    "            relationshipsatisfaction, jobinvolvement, worklifebalance,\n",
    "            performancerating\n",
    "        ) VALUES (%s, %s, %s, %s, %s, %s, %s)\n",
    "    \"\"\", (\n",
    "        row['employeenumber'],\n",
    "        row['environmentsatisfaction'],\n",
    "        row['jobsatisfaction'],\n",
    "        row['relationshipsatisfaction'],\n",
    "        row['jobinvolvement'],\n",
    "        row['worklifebalance'],\n",
    "        row['performancerating']\n",
    "    ))\n",
    "\n",
    "    cur.execute(\"\"\"\n",
    "        INSERT INTO work (\n",
    "            employeenumber, department, jobrole, joblevel, remotework, standardhours\n",
    "        ) VALUES (%s, %s, %s, %s, %s, %s)\n",
    "    \"\"\", (\n",
    "        row['employeenumber'],\n",
    "        row['department'],\n",
    "        row['jobrole'],\n",
    "        row['joblevel'],\n",
    "        row['remotework'],\n",
    "        row['standardhours']\n",
    "    ))\n",
    "\n",
    "    cur.execute(\"\"\"\n",
    "        INSERT INTO history (\n",
    "            employeenumber, totalworkingyears, yearsatcompany,\n",
    "            yearswithcurrmanager, yearssincelastpromotion,\n",
    "            trainingtimeslastyear\n",
    "        ) VALUES (%s, %s, %s, %s, %s, %s)\n",
    "    \"\"\", (\n",
    "        row['employeenumber'],\n",
    "        row['totalworkingyears'],\n",
    "        row['yearsatcompany'],\n",
    "        row['yearswithcurrmanager'],\n",
    "        row['yearssincelastpromotion'],\n",
    "        row['trainingtimeslastyear']\n",
    "    ))\n",
    "\n",
    "    cur.execute(\"\"\"\n",
    "        INSERT INTO conditions (\n",
    "            employeenumber, monthlyincome, monthlyrate, dailyrate,\n",
    "            hourlyrate, salary, stockoptionlevel, percentsalaryhike,\n",
    "            overtime\n",
    "        ) VALUES (%s, %s, %s, %s, %s, %s, %s, %s, %s)\n",
    "    \"\"\", (\n",
    "        row['employeenumber'],\n",
    "        row['monthlyincome'],\n",
    "        row['monthlyrate'],\n",
    "        row['dailyrate'],\n",
    "        row['hourlyrate'],\n",
    "        row['salary'],\n",
    "        row['stockoptionlevel'],\n",
    "        row['percentsalaryhike'],\n",
    "        row['overtime']\n",
    "    ))\n",
    "\n",
    "cnx.commit()\n",
    "cur.close()\n",
    "cnx.close()"
   ]
  },
  {
   "cell_type": "code",
   "execution_count": null,
   "id": "048c06a5",
   "metadata": {},
   "outputs": [],
   "source": []
  }
 ],
 "metadata": {
  "kernelspec": {
   "display_name": "Python 3",
   "language": "python",
   "name": "python3"
  },
  "language_info": {
   "codemirror_mode": {
    "name": "ipython",
    "version": 3
   },
   "file_extension": ".py",
   "mimetype": "text/x-python",
   "name": "python",
   "nbconvert_exporter": "python",
   "pygments_lexer": "ipython3",
   "version": "3.12.7"
  }
 },
 "nbformat": 4,
 "nbformat_minor": 5
}
